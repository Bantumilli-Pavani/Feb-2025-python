{
 "cells": [
  {
   "cell_type": "markdown",
   "id": "cf73e60b-a0f7-4c76-8816-1cb3049fa5d7",
   "metadata": {},
   "source": [
    "## VARIABLES ##\n",
    "\n",
    "- Variables are used to store the data\n",
    "\n",
    "- the data can be changed\n",
    "\n",
    "- these variables can be used to manipulate python code"
   ]
  },
  {
   "cell_type": "code",
   "execution_count": 7,
   "id": "2b1adbdf-f33f-4bda-8b94-d81680b1eb22",
   "metadata": {},
   "outputs": [
    {
     "data": {
      "text/plain": [
       "100"
      ]
     },
     "execution_count": 7,
     "metadata": {},
     "output_type": "execute_result"
    }
   ],
   "source": [
    "number = 100              #100 is stored in a variable called a number\n",
    "number"
   ]
  },
  {
   "cell_type": "code",
   "execution_count": 11,
   "id": "f361a09a-74b1-4837-8738-cfe9790ea1e8",
   "metadata": {},
   "outputs": [
    {
     "data": {
      "text/plain": [
       "200"
      ]
     },
     "execution_count": 11,
     "metadata": {},
     "output_type": "execute_result"
    }
   ],
   "source": [
    "NUMBER = 200\n",
    "NUMBER"
   ]
  },
  {
   "cell_type": "code",
   "execution_count": 13,
   "id": "219007ee-3837-4464-abad-18a61fcd52d2",
   "metadata": {},
   "outputs": [
    {
     "data": {
      "text/plain": [
       "(100, 200)"
      ]
     },
     "execution_count": 13,
     "metadata": {},
     "output_type": "execute_result"
    }
   ],
   "source": [
    "number,NUMBER"
   ]
  },
  {
   "cell_type": "code",
   "execution_count": 15,
   "id": "ad912b3e-1fb2-4ab1-9ff3-33c7abeebb1b",
   "metadata": {},
   "outputs": [
    {
     "data": {
      "text/plain": [
       "300"
      ]
     },
     "execution_count": 15,
     "metadata": {},
     "output_type": "execute_result"
    }
   ],
   "source": [
    "NUMber = 300\n",
    "NUMber"
   ]
  },
  {
   "cell_type": "code",
   "execution_count": 17,
   "id": "a6ed718e-d6b9-4c96-a3a1-216852facdde",
   "metadata": {},
   "outputs": [
    {
     "data": {
      "text/plain": [
       "400"
      ]
     },
     "execution_count": 17,
     "metadata": {},
     "output_type": "execute_result"
    }
   ],
   "source": [
    "numBER = 400\n",
    "numBER"
   ]
  },
  {
   "cell_type": "code",
   "execution_count": 19,
   "id": "eeec4e00-d1b3-4c63-af80-4d65d1fba61f",
   "metadata": {},
   "outputs": [
    {
     "data": {
      "text/plain": [
       "(100, 200, 300, 400)"
      ]
     },
     "execution_count": 19,
     "metadata": {},
     "output_type": "execute_result"
    }
   ],
   "source": [
    "number,NUMBER,NUMber,numBER"
   ]
  },
  {
   "cell_type": "code",
   "execution_count": 23,
   "id": "ee15d5e2-daa5-4e29-a654-0b6c9a3aa47f",
   "metadata": {},
   "outputs": [
    {
     "data": {
      "text/plain": [
       "500"
      ]
     },
     "execution_count": 23,
     "metadata": {},
     "output_type": "execute_result"
    }
   ],
   "source": [
    "number123 = 500\n",
    "number123"
   ]
  },
  {
   "cell_type": "code",
   "execution_count": 25,
   "id": "97ac963f-d25a-4d37-b30f-04a52157ccfa",
   "metadata": {},
   "outputs": [
    {
     "ename": "SyntaxError",
     "evalue": "invalid decimal literal (2376699783.py, line 1)",
     "output_type": "error",
     "traceback": [
      "\u001b[1;36m  Cell \u001b[1;32mIn[25], line 1\u001b[1;36m\u001b[0m\n\u001b[1;33m    123number = 600\u001b[0m\n\u001b[1;37m      ^\u001b[0m\n\u001b[1;31mSyntaxError\u001b[0m\u001b[1;31m:\u001b[0m invalid decimal literal\n"
     ]
    }
   ],
   "source": [
    "123number = 600\n",
    "123number"
   ]
  },
  {
   "cell_type": "markdown",
   "id": "30405ae3-8bb7-4bc2-adad-a6cfea1daa9c",
   "metadata": {},
   "source": [
    "## Note ##\n",
    "\n",
    "- variables generally in black colour\n",
    "\n",
    "- green colour should not be variable\n",
    "\n",
    "- numbers as suffix can wrk\n",
    "\n",
    "- numbers as prefix fail\n",
    "\n",
    "- special characters doesnot allowed"
   ]
  },
  {
   "cell_type": "code",
   "execution_count": 30,
   "id": "5c6e72aa-bc9a-4240-8da8-a90b88ac4cfb",
   "metadata": {},
   "outputs": [
    {
     "ename": "SyntaxError",
     "evalue": "invalid syntax (2901377507.py, line 1)",
     "output_type": "error",
     "traceback": [
      "\u001b[1;36m  Cell \u001b[1;32mIn[30], line 1\u001b[1;36m\u001b[0m\n\u001b[1;33m    number$ = 600\u001b[0m\n\u001b[1;37m          ^\u001b[0m\n\u001b[1;31mSyntaxError\u001b[0m\u001b[1;31m:\u001b[0m invalid syntax\n"
     ]
    }
   ],
   "source": [
    "number$ = 600\n",
    "number$\n"
   ]
  },
  {
   "cell_type": "code",
   "execution_count": 32,
   "id": "18e23501-713b-4cb4-8723-44f08012e818",
   "metadata": {},
   "outputs": [
    {
     "ename": "SyntaxError",
     "evalue": "invalid syntax (3656290241.py, line 1)",
     "output_type": "error",
     "traceback": [
      "\u001b[1;36m  Cell \u001b[1;32mIn[32], line 1\u001b[1;36m\u001b[0m\n\u001b[1;33m    number one = 200\u001b[0m\n\u001b[1;37m           ^\u001b[0m\n\u001b[1;31mSyntaxError\u001b[0m\u001b[1;31m:\u001b[0m invalid syntax\n"
     ]
    }
   ],
   "source": [
    "number one = 200\n",
    "number one"
   ]
  },
  {
   "cell_type": "code",
   "execution_count": 35,
   "id": "380bc3e3-0c73-490c-94d6-bbe7e9acf851",
   "metadata": {},
   "outputs": [
    {
     "data": {
      "text/plain": [
       "300"
      ]
     },
     "execution_count": 35,
     "metadata": {},
     "output_type": "execute_result"
    }
   ],
   "source": [
    "number_one = 300\n",
    "number_one"
   ]
  },
  {
   "cell_type": "markdown",
   "id": "fc292e88-cc18-43e4-8fa8-f72a8c9678e0",
   "metadata": {},
   "source": [
    "- special characters are not allowed\n",
    "\n",
    "- only underscore allowed\n",
    "\n",
    "- underscore can use as variable\n"
   ]
  },
  {
   "cell_type": "code",
   "execution_count": 38,
   "id": "18e16573-b9d1-4b2d-8cc0-230be6a5761e",
   "metadata": {},
   "outputs": [
    {
     "data": {
      "text/plain": [
       "1000"
      ]
     },
     "execution_count": 38,
     "metadata": {},
     "output_type": "execute_result"
    }
   ],
   "source": [
    "_=1000\n",
    "_"
   ]
  },
  {
   "cell_type": "code",
   "execution_count": null,
   "id": "a2e5a84b-1e68-4910-8ef5-f4e28859c9cc",
   "metadata": {},
   "outputs": [],
   "source": [
    "one=12\n",
    "tw0=20\n",
    "one+two"
   ]
  }
 ],
 "metadata": {
  "kernelspec": {
   "display_name": "Python [conda env:base] *",
   "language": "python",
   "name": "conda-base-py"
  },
  "language_info": {
   "codemirror_mode": {
    "name": "ipython",
    "version": 3
   },
   "file_extension": ".py",
   "mimetype": "text/x-python",
   "name": "python",
   "nbconvert_exporter": "python",
   "pygments_lexer": "ipython3",
   "version": "3.12.7"
  }
 },
 "nbformat": 4,
 "nbformat_minor": 5
}
